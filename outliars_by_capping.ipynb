{
 "cells": [
  {
   "cell_type": "code",
   "execution_count": 24,
   "metadata": {},
   "outputs": [],
   "source": [
    "# EDA pamages \n",
    "import pandas as pd\n",
    "\n",
    "#hide earrings \n",
    "import warnings\n",
    "warnings.filterwarnings('ignore')\n",
    "import numpy as np\n",
    "\n",
    "# Data Viz pakages\n",
    "import matplotlib.pyplot as plt\n",
    "import seaborn as sns"
   ]
  },
  {
   "cell_type": "code",
   "execution_count": 25,
   "metadata": {},
   "outputs": [],
   "source": [
    "df = pd.read_csv(\"C:\\\\Users\\\\haier\\\\Python\\\\TEXT_DATA_PREPROCESSING\\\\Data_sets\\\\subset_covid19_tweets.csv\")"
   ]
  },
  {
   "cell_type": "code",
   "execution_count": 26,
   "metadata": {},
   "outputs": [],
   "source": [
    "a = df['user_followers'].describe()\n",
    "b = df['user_favourites'].describe()\n",
    "c = df['user_friends'].describe()"
   ]
  },
  {
   "cell_type": "code",
   "execution_count": 27,
   "metadata": {},
   "outputs": [
    {
     "data": {
      "text/plain": [
       "count    5.000000e+02\n",
       "mean     8.285120e+04\n",
       "std      7.113861e+05\n",
       "min      0.000000e+00\n",
       "25%      1.717500e+02\n",
       "50%      8.410000e+02\n",
       "75%      4.770250e+03\n",
       "max      1.389280e+07\n",
       "Name: user_followers, dtype: float64"
      ]
     },
     "execution_count": 27,
     "metadata": {},
     "output_type": "execute_result"
    }
   ],
   "source": [
    "a"
   ]
  },
  {
   "cell_type": "code",
   "execution_count": 28,
   "metadata": {},
   "outputs": [
    {
     "data": {
      "text/plain": [
       "count       500.000000\n",
       "mean      11229.806000\n",
       "std       31756.974694\n",
       "min           0.000000\n",
       "25%         147.000000\n",
       "50%        1713.000000\n",
       "75%        9773.250000\n",
       "max      488878.000000\n",
       "Name: user_favourites, dtype: float64"
      ]
     },
     "execution_count": 28,
     "metadata": {},
     "output_type": "execute_result"
    }
   ],
   "source": [
    "b"
   ]
  },
  {
   "cell_type": "code",
   "execution_count": 29,
   "metadata": {},
   "outputs": [
    {
     "data": {
      "text/plain": [
       "count       500.000000\n",
       "mean       2562.412000\n",
       "std       12563.676522\n",
       "min           0.000000\n",
       "25%         165.500000\n",
       "50%         558.500000\n",
       "75%        1617.500000\n",
       "max      256510.000000\n",
       "Name: user_friends, dtype: float64"
      ]
     },
     "execution_count": 29,
     "metadata": {},
     "output_type": "execute_result"
    }
   ],
   "source": [
    "c"
   ]
  },
  {
   "cell_type": "code",
   "execution_count": 30,
   "metadata": {},
   "outputs": [],
   "source": [
    "drop_unnamed = df.drop('Unnamed: 0',axis=1,inplace=True)"
   ]
  },
  {
   "cell_type": "code",
   "execution_count": 31,
   "metadata": {},
   "outputs": [],
   "source": [
    "df.index.name = 'S:no'  ; df.columns.name = 'Info'\n",
    "df_rename = df.rename(columns=str.title)\n",
    "fill_with_method = df.fillna(method='ffill',inplace=True) #this method keep pervious of column-value and past where na is writhen  "
   ]
  },
  {
   "cell_type": "code",
   "execution_count": 6,
   "metadata": {},
   "outputs": [],
   "source": [
    "fill_with_values = df.fillna({'hashtags':'Zero'},inplace=True)"
   ]
  },
  {
   "cell_type": "code",
   "execution_count": 7,
   "metadata": {},
   "outputs": [],
   "source": [
    "def get_convert_dtype(list_of_c_ids):\n",
    "    for list_of_c_id in list_of_c_ids:\n",
    "        df[list_of_c_id] = df[list_of_c_id].apply(pd.to_numeric)\n",
    "        # convert just columns \"a\" and \"b\" df[[\"a\", \"b\"]] = df[[\"a\", \"b\"]].apply(pd.to_numeric)\n",
    "        df[list_of_c_id] = df[list_of_c_id].astype(int)\n",
    "get_convert_dtype(['user_followers', 'user_friends', 'user_favourites'])"
   ]
  },
  {
   "cell_type": "code",
   "execution_count": 8,
   "metadata": {},
   "outputs": [],
   "source": [
    "get_convert_dtype(['user_followers', 'user_friends', 'user_favourites'])"
   ]
  },
  {
   "cell_type": "code",
   "execution_count": 9,
   "metadata": {},
   "outputs": [
    {
     "data": {
      "text/plain": [
       "Info\n",
       "user_name           object\n",
       "user_location       object\n",
       "user_description    object\n",
       "user_created        object\n",
       "user_followers       int32\n",
       "user_friends         int32\n",
       "user_favourites      int32\n",
       "user_verified         bool\n",
       "date                object\n",
       "text                object\n",
       "hashtags            object\n",
       "source              object\n",
       "is_retweet            bool\n",
       "dtype: object"
      ]
     },
     "execution_count": 9,
     "metadata": {},
     "output_type": "execute_result"
    }
   ],
   "source": [
    "df.dtypes"
   ]
  },
  {
   "cell_type": "code",
   "execution_count": 10,
   "metadata": {},
   "outputs": [],
   "source": [
    "data = df.describe()"
   ]
  },
  {
   "cell_type": "code",
   "execution_count": 32,
   "metadata": {},
   "outputs": [],
   "source": [
    "def plotvariable(data_f1,list_vars):\n",
    "    for list_var in list_vars:\n",
    "        plt.figure(figsize=(16,4))\n",
    "        plt.subplot(1,2,1)\n",
    "        #histogram\n",
    "        sns.distplot(df[list_var])"
   ]
  },
  {
   "cell_type": "code",
   "execution_count": 33,
   "metadata": {},
   "outputs": [
    {
     "data": {
      "image/png": "[encoded data removed]",
      "text/plain": [
       "<Figure size 1152x288 with 1 Axes>"
      ]
     },
     "metadata": {
      "needs_background": "light"
     },
     "output_type": "display_data"
    },
    {
     "data": {
      "image/png": "[encoded data removed]",
      "text/plain": [
       "<Figure size 1152x288 with 1 Axes>"
      ]
     },
     "metadata": {
      "needs_background": "light"
     },
     "output_type": "display_data"
    },
    {
     "data": {
      "image/png": "[encoded data removed]",
      "text/plain": [
       "<Figure size 1152x288 with 1 Axes>"
      ]
     },
     "metadata": {
      "needs_background": "light"
     },
     "output_type": "display_data"
    }
   ],
   "source": [
    "plotvariable(df,['user_followers', 'user_friends', 'user_favourites'])"
   ]
  },
  {
   "cell_type": "code",
   "execution_count": 34,
   "metadata": {},
   "outputs": [],
   "source": [
    "def get_boundary_value(list_c_ids):\n",
    "    for list_c_id in list_c_ids:\n",
    "        print('\\n',list_c_id.upper())\n",
    "        global  upper_limmite, lower_limmite\n",
    "        upper_limmite = df[list_c_id].mean() + 3*df[list_c_id].std()\n",
    "        lower_limmite = df[list_c_id].mean() - 3*df[list_c_id].std()\n",
    "        print('Highest Allow',list_c_id.upper(),upper_limmite)\n",
    "        print('Lowest Allow',list_c_id.upper(),lower_limmite)"
   ]
  },
  {
   "cell_type": "code",
   "execution_count": 35,
   "metadata": {},
   "outputs": [
    {
     "name": "stdout",
     "output_type": "stream",
     "text": [
      "\n",
      " USER_FOLLOWERS\n",
      "Highest Allow USER_FOLLOWERS 2217009.4673213637\n",
      "Lowest Allow USER_FOLLOWERS -2051307.0673213636\n",
      "\n",
      " USER_FRIENDS\n",
      "Highest Allow USER_FRIENDS 40253.441566993046\n",
      "Lowest Allow USER_FRIENDS -35128.61756699305\n",
      "\n",
      " USER_FAVOURITES\n",
      "Highest Allow USER_FAVOURITES 106500.73008202063\n",
      "Lowest Allow USER_FAVOURITES -84041.11808202064\n"
     ]
    }
   ],
   "source": [
    "get_boundary_value(['user_followers','user_friends','user_favourites'])"
   ]
  },
  {
   "cell_type": "code",
   "execution_count": 36,
   "metadata": {},
   "outputs": [],
   "source": [
    "def get_np_where(list_c_ids):\n",
    "    for list_c_id in list_c_ids:\n",
    "        if list_c_id == 'user_followers':\n",
    "            #np.where(required 3 things . 1)condition 2)action when given condition True 3)action when given condition False) \n",
    "            np.where(df[list_c_id] > upper_limmite,#condition\n",
    "                    upper_limmite,#if condition is true replace with upper limmit\n",
    "                     np.where(df[list_c_id] < lower_limmite, # if condition is false\n",
    "                             lower_limmite,#replace by lowwer\n",
    "                              df[list_c_id]#else leave that \n",
    "                             )\n",
    "                    )\n",
    "        elif list_c_id == 'user_friends':\n",
    "            if list_c_id == 'user_followers':\n",
    "                np.where(df[list_c_id] > upper_limmite,\n",
    "                         upper_limmite,\n",
    "                         np.where(df[list_c_id] < lower_limmite,\n",
    "                                  lower_limmite,\n",
    "                                  df[list_c_id]\n",
    "                             )\n",
    "                    )\n",
    "            elif list_c_id == 'user_favourites':\n",
    "                if list_c_id == 'user_favourites':\n",
    "                    np.where(df[list_c_id] > upper_limmite,\n",
    "                             upper_limmite,\n",
    "                             np.where(df[list_c_id] < lower_limmite,\n",
    "                                      lower_limmite,\n",
    "                                      df[list_c_id]\n",
    "                             )\n",
    "                    )"
   ]
  },
  {
   "cell_type": "code",
   "execution_count": 42,
   "metadata": {},
   "outputs": [],
   "source": [
    "get_np_where(['user_followers','user_friends','user_favourites'])"
   ]
  },
  {
   "cell_type": "code",
   "execution_count": 43,
   "metadata": {},
   "outputs": [],
   "source": [
    "a = df['user_followers'].describe()\n",
    "b = df['user_favourites'].describe()\n",
    "c = df['user_friends'].describe()"
   ]
  },
  {
   "cell_type": "code",
   "execution_count": 44,
   "metadata": {},
   "outputs": [
    {
     "data": {
      "text/plain": [
       "count    5.000000e+02\n",
       "mean     8.285120e+04\n",
       "std      7.113861e+05\n",
       "min      0.000000e+00\n",
       "25%      1.717500e+02\n",
       "50%      8.410000e+02\n",
       "75%      4.770250e+03\n",
       "max      1.389280e+07\n",
       "Name: user_followers, dtype: float64"
      ]
     },
     "execution_count": 44,
     "metadata": {},
     "output_type": "execute_result"
    }
   ],
   "source": [
    "a"
   ]
  },
  {
   "cell_type": "code",
   "execution_count": 46,
   "metadata": {},
   "outputs": [
    {
     "data": {
      "text/plain": [
       "count       500.000000\n",
       "mean      11229.806000\n",
       "std       31756.974694\n",
       "min           0.000000\n",
       "25%         147.000000\n",
       "50%        1713.000000\n",
       "75%        9773.250000\n",
       "max      488878.000000\n",
       "Name: user_favourites, dtype: float64"
      ]
     },
     "execution_count": 46,
     "metadata": {},
     "output_type": "execute_result"
    }
   ],
   "source": [
    "b"
   ]
  },
  {
   "cell_type": "code",
   "execution_count": 47,
   "metadata": {},
   "outputs": [
    {
     "data": {
      "text/plain": [
       "count       500.000000\n",
       "mean       2562.412000\n",
       "std       12563.676522\n",
       "min           0.000000\n",
       "25%         165.500000\n",
       "50%         558.500000\n",
       "75%        1617.500000\n",
       "max      256510.000000\n",
       "Name: user_friends, dtype: float64"
      ]
     },
     "execution_count": 47,
     "metadata": {},
     "output_type": "execute_result"
    }
   ],
   "source": [
    "c"
   ]
  }
 ],
 "metadata": {
  "kernelspec": {
   "display_name": "Python 3",
   "language": "python",
   "name": "python3"
  },
  "language_info": {
   "codemirror_mode": {
    "name": "ipython",
    "version": 3
   },
   "file_extension": ".py",
   "mimetype": "text/x-python",
   "name": "python",
   "nbconvert_exporter": "python",
   "pygments_lexer": "ipython3",
   "version": "3.7.4"
  }
 },
 "nbformat": 4,
 "nbformat_minor": 2
}
